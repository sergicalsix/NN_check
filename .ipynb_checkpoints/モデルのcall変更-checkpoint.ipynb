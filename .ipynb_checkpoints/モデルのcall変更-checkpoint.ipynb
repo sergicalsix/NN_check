{
 "cells": [
  {
   "cell_type": "markdown",
   "metadata": {},
   "source": [
    "### 目的\n",
    "- 学習後の重みについて可視化する\n",
    "- drop_out\n",
    "- l1ノルム追加時の精度と重みについて可視化する"
   ]
  },
  {
   "cell_type": "code",
   "execution_count": 96,
   "metadata": {},
   "outputs": [
    {
     "name": "stdout",
     "output_type": "stream",
     "text": [
      "/Users/shibuya/NN_check\n"
     ]
    }
   ],
   "source": [
    "!pwd"
   ]
  },
  {
   "cell_type": "code",
   "execution_count": 32,
   "metadata": {},
   "outputs": [],
   "source": [
    "import tensorflow as tf\n",
    "import numpy as np\n",
    "import matplotlib.pyplot as plt\n",
    "%matplotlib inline\n",
    "import random\n",
    "import os\n",
    "from keras import backend as K\n",
    "\n",
    "\n",
    "\n",
    "\n",
    "\n",
    "def set_seed(seed = 42):\n",
    "    \n",
    "    tf.random.set_seed(seed)\n",
    "    #session_conf = tf.ConfigProto(\n",
    "    #intra_op_parallelism_threads=1,\n",
    "    #inter_op_parallelism_threads=1\n",
    "    #)\n",
    "    #sess = tf.Session(graph=tf.get_default_graph())\n",
    "    #sess = tf.Session(graph=tf.get_default_graph(), config=session_conf)\n",
    "    #K.set_session(sess)\n",
    "    np.random.seed(seed)\n",
    "    # for built-in random\n",
    "    random.seed(seed)"
   ]
  },
  {
   "cell_type": "code",
   "execution_count": 33,
   "metadata": {},
   "outputs": [
    {
     "name": "stdout",
     "output_type": "stream",
     "text": [
      "600/600 [==============================] - 3s 3ms/step - loss: 0.7652 - accuracy: 0.8124 - val_loss: 0.2373 - val_accuracy: 0.9306\n",
      "313/313 [==============================] - 1s 2ms/step - loss: 0.2373 - accuracy: 0.9306\n",
      "\n",
      "Test loss: 0.23732763528823853\n",
      "Test accuracy: 0.9305999875068665\n"
     ]
    }
   ],
   "source": [
    "import keras\n",
    "from keras.datasets import mnist\n",
    "from keras import regularizers\n",
    "from keras.models import Model\n",
    "from keras.layers import Dense, Dropout, Input\n",
    "from keras.optimizers import Adam\n",
    "\n",
    "# MNISTデータを読込む\n",
    "(x_train, y_train), (x_test, y_test) = mnist.load_data()\n",
    "\n",
    "# MNISTデータを加工する\n",
    "x_train  = x_train.reshape(60000, 784)\n",
    "x_test   = x_test.reshape(10000, 784)\n",
    "x_train  = x_train.astype('float32')\n",
    "x_test   = x_test.astype('float32')\n",
    "x_train /= 255\n",
    "x_test  /= 255\n",
    "y_train  = keras.utils.to_categorical(y_train, 10)\n",
    "y_test   = keras.utils.to_categorical(y_test, 10)\n",
    "\n",
    "\n",
    "\n",
    "# モデルの構築\n",
    "inputs = Input(shape=(784,))\n",
    "\n",
    "set_seed(42)\n",
    "x = Dense(784, activation='relu',kernel_initializer='random_uniform', name = \"hoge\")(inputs)\n",
    "x = Dense(100, activation='relu',kernel_initializer='random_uniform')(inputs)\n",
    "x = Dense(10, activation='softmax', kernel_initializer='random_uniform')(x)\n",
    "#x4 = x2 + x3\n",
    "model = Model(inputs=inputs, outputs=x)\n",
    "model.compile(loss='categorical_crossentropy', optimizer='adam', metrics=['accuracy'])\n",
    "\n",
    "# 学習\n",
    "epochs = 1\n",
    "batch_size = 100\n",
    "set_seed(42)\n",
    "history = model.fit(x_train, y_train, batch_size=batch_size, epochs=epochs, verbose=1, validation_data=(x_test, y_test))\n",
    "\n",
    "# 検証\n",
    "score = model.evaluate(x_test, y_test, verbose=1)\n",
    "print()\n",
    "print('Test loss:', score[0])\n",
    "print('Test accuracy:', score[1])"
   ]
  },
  {
   "cell_type": "code",
   "execution_count": 35,
   "metadata": {},
   "outputs": [
    {
     "name": "stdout",
     "output_type": "stream",
     "text": [
      "600/600 [==============================] - 2s 3ms/step - loss: 0.7652 - accuracy: 0.8124 - val_loss: 0.2373 - val_accuracy: 0.9306\n",
      "313/313 [==============================] - 1s 2ms/step - loss: 0.2373 - accuracy: 0.9306\n",
      "\n",
      "Test loss: 0.23732763528823853\n",
      "Test accuracy: 0.9305999875068665\n"
     ]
    }
   ],
   "source": [
    "set_seed(42)\n",
    "x = Dense(784, activation='relu',kernel_initializer='random_uniform', name = \"hoge\")(inputs)\n",
    "x = Dense(100, activation='relu',kernel_initializer='random_uniform')(inputs)\n",
    "x = Dense(10, activation='softmax', kernel_initializer='random_uniform')(x)\n",
    "model2 = Model(inputs=inputs, outputs=x)\n",
    "model2.compile(loss='categorical_crossentropy', optimizer='adam', metrics=['accuracy'])\n",
    "\n",
    "# 学習\n",
    "epochs = 1\n",
    "batch_size = 100\n",
    "set_seed(42)\n",
    "history = model2.fit(x_train, y_train, batch_size=batch_size, epochs=epochs, verbose=1, validation_data=(x_test, y_test))\n",
    "\n",
    "# 検証\n",
    "score = model2.evaluate(x_test, y_test, verbose=1)\n",
    "print()\n",
    "print('Test loss:', score[0])\n",
    "print('Test accuracy:', score[1])"
   ]
  },
  {
   "cell_type": "code",
   "execution_count": null,
   "metadata": {},
   "outputs": [],
   "source": []
  },
  {
   "cell_type": "markdown",
   "metadata": {},
   "source": [
    "## class model"
   ]
  },
  {
   "cell_type": "code",
   "execution_count": 26,
   "metadata": {},
   "outputs": [
    {
     "name": "stdout",
     "output_type": "stream",
     "text": [
      "Epoch 1/2\n",
      "600/600 [==============================] - 5s 7ms/step - loss: 0.5325 - accuracy: 0.8527 - val_loss: 0.1171 - val_accuracy: 0.9642\n",
      "Epoch 2/2\n",
      "600/600 [==============================] - 5s 9ms/step - loss: 0.1027 - accuracy: 0.9681 - val_loss: 0.0842 - val_accuracy: 0.9736\n",
      "313/313 [==============================] - 1s 3ms/step - loss: 0.0842 - accuracy: 0.9736\n",
      "\n",
      "Test loss: 0.08421523123979568\n",
      "Test accuracy: 0.9735999703407288\n"
     ]
    }
   ],
   "source": [
    "inputs = Input(shape=(784,))\n",
    "\n",
    "set_seed(42)\n",
    "#x = Dense(784, activation='relu',kernel_initializer='random_uniform', name = \"hoge\")(inputs)\n",
    "#x = Dense(100, activation='relu',kernel_initializer='random_uniform')(inputs)\n",
    "#x = Dense(10, activation='softmax', kernel_initializer='random_uniform')(x)\n",
    "\n",
    "\n",
    "# Define the subclassed model.\n",
    "class Model_class(Model):\n",
    "    def __init__(self):\n",
    "        super(Model_class, self).__init__()\n",
    "        set_seed(42)\n",
    "        self.layer1 = Dense(784, activation='relu',kernel_initializer='random_uniform', name = \"hoge\")\n",
    "        self.layer2 = Dense(100, activation='relu',kernel_initializer='random_uniform')\n",
    "        self.layer3 = Dense(10, activation='softmax', kernel_initializer='random_uniform')\n",
    "        \n",
    "\n",
    "    def call(self, inputs):\n",
    "        x = self.layer1(inputs)\n",
    "        x = self.layer2(x)\n",
    "        return self.layer3(x)\n",
    "\n",
    "model = Model_class()\n",
    "# Call model on inputs to create the variables of the dense layer.\n",
    "_ = model(inputs)\n",
    "#x4 = x2 + x3\n",
    "model.compile(loss='categorical_crossentropy', optimizer='adam', metrics=['accuracy'])\n",
    "\n",
    "epochs = 1\n",
    "batch_size = 100\n",
    "set_seed(42)\n",
    "history = model.fit(x_train, y_train, batch_size=batch_size, epochs=epochs, verbose=1, validation_data=(x_test, y_test))\n",
    "\n",
    "# 検証\n",
    "score = model.evaluate(x_test, y_test, verbose=1)\n",
    "print()\n",
    "print('Test loss:', score[0])\n",
    "print('Test accuracy:', score[1])"
   ]
  },
  {
   "cell_type": "code",
   "execution_count": null,
   "metadata": {},
   "outputs": [],
   "source": []
  },
  {
   "cell_type": "code",
   "execution_count": null,
   "metadata": {},
   "outputs": [],
   "source": []
  },
  {
   "cell_type": "markdown",
   "metadata": {},
   "source": [
    "### 再現性の確認"
   ]
  },
  {
   "cell_type": "code",
   "execution_count": 23,
   "metadata": {},
   "outputs": [],
   "source": [
    "inputs = Input(shape=(784,))\n",
    "\n",
    "set_seed(42)\n",
    "x = Dense(784, activation='relu',kernel_initializer='random_uniform', name = \"hoge\")(inputs)\n",
    "x = Dense(100, activation='relu',kernel_initializer='random_uniform')(inputs)\n",
    "x = Dense(10, activation='softmax', kernel_initializer='random_uniform')(x)\n",
    "#x4 = x2 + x3\n",
    "model = Model(inputs = inputs, outputs=x)"
   ]
  },
  {
   "cell_type": "code",
   "execution_count": 18,
   "metadata": {},
   "outputs": [],
   "source": [
    "model2 = Model_class()\n",
    "_ = model2(inputs)"
   ]
  },
  {
   "cell_type": "code",
   "execution_count": 21,
   "metadata": {},
   "outputs": [
    {
     "data": {
      "text/plain": [
       "array([[ 0.01878912, -0.00155212,  0.04309944, ...,  0.02197267,\n",
       "        -0.04005278,  0.04480752],\n",
       "       [-0.00537275, -0.0163908 , -0.00531293, ..., -0.02761691,\n",
       "        -0.02099543, -0.04422212],\n",
       "       [ 0.03057282,  0.04772124,  0.0273265 , ...,  0.01920762,\n",
       "        -0.01681979,  0.04212563],\n",
       "       ...,\n",
       "       [ 0.0177031 ,  0.00048262, -0.03944298, ...,  0.0383727 ,\n",
       "        -0.01793129, -0.02333527],\n",
       "       [ 0.03191893,  0.01330081,  0.03970552, ..., -0.03449966,\n",
       "        -0.01427802,  0.02485213],\n",
       "       [-0.02796367, -0.00531797, -0.01274946, ...,  0.02140654,\n",
       "         0.00115863,  0.01362861]], dtype=float32)"
      ]
     },
     "execution_count": 21,
     "metadata": {},
     "output_type": "execute_result"
    }
   ],
   "source": [
    "model.layers[1].get_weights()[0]  == model2.layers[1].get_weights()[0]"
   ]
  },
  {
   "cell_type": "code",
   "execution_count": 20,
   "metadata": {},
   "outputs": [
    {
     "data": {
      "text/plain": [
       "array([[ 0.01878912, -0.00155212,  0.04309944, ...,  0.02197267,\n",
       "        -0.04005278,  0.04480752],\n",
       "       [-0.00537275, -0.0163908 , -0.00531293, ..., -0.02761691,\n",
       "        -0.02099543, -0.04422212],\n",
       "       [ 0.03057282,  0.04772124,  0.0273265 , ...,  0.01920762,\n",
       "        -0.01681979,  0.04212563],\n",
       "       ...,\n",
       "       [ 0.0177031 ,  0.00048262, -0.03944298, ...,  0.0383727 ,\n",
       "        -0.01793129, -0.02333527],\n",
       "       [ 0.03191893,  0.01330081,  0.03970552, ..., -0.03449966,\n",
       "        -0.01427802,  0.02485213],\n",
       "       [-0.02796367, -0.00531797, -0.01274946, ...,  0.02140654,\n",
       "         0.00115863,  0.01362861]], dtype=float32)"
      ]
     },
     "execution_count": 20,
     "metadata": {},
     "output_type": "execute_result"
    }
   ],
   "source": []
  },
  {
   "cell_type": "code",
   "execution_count": null,
   "metadata": {},
   "outputs": [],
   "source": []
  },
  {
   "cell_type": "code",
   "execution_count": null,
   "metadata": {},
   "outputs": [],
   "source": []
  },
  {
   "cell_type": "code",
   "execution_count": null,
   "metadata": {},
   "outputs": [],
   "source": []
  },
  {
   "cell_type": "code",
   "execution_count": null,
   "metadata": {},
   "outputs": [],
   "source": []
  },
  {
   "cell_type": "code",
   "execution_count": 91,
   "metadata": {},
   "outputs": [],
   "source": [
    "w1_normal, w2_normal = model.layers[1].get_weights()[0],model.layers[2].get_weights()[0]"
   ]
  },
  {
   "cell_type": "code",
   "execution_count": 98,
   "metadata": {},
   "outputs": [],
   "source": [
    "#for w in w1_normal:\n",
    "#    print(w.shape)"
   ]
  },
  {
   "cell_type": "code",
   "execution_count": null,
   "metadata": {},
   "outputs": [],
   "source": []
  }
 ],
 "metadata": {
  "kernelspec": {
   "display_name": "Python 3",
   "language": "python",
   "name": "python3"
  },
  "language_info": {
   "codemirror_mode": {
    "name": "ipython",
    "version": 3
   },
   "file_extension": ".py",
   "mimetype": "text/x-python",
   "name": "python",
   "nbconvert_exporter": "python",
   "pygments_lexer": "ipython3",
   "version": "3.7.12"
  }
 },
 "nbformat": 4,
 "nbformat_minor": 4
}
