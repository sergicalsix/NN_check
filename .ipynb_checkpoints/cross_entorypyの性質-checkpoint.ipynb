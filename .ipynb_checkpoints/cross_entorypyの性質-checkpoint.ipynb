{
 "cells": [
  {
   "cell_type": "markdown",
   "metadata": {},
   "source": [
    "# cross_entropy_check\n",
    "\n",
    "背景: \n",
    "精度に比べてnormal_convのクロスエントロピーが大きすぎるように感じる\n",
    "\n",
    "結論:\n",
    "正解を完全に間違えてしまうとlossが以上に大きくなる"
   ]
  },
  {
   "cell_type": "code",
   "execution_count": 40,
   "metadata": {},
   "outputs": [],
   "source": [
    "import numpy as np\n",
    "\n",
    "\n",
    "def cross_entropy_error(y, t):\n",
    "    if y.ndim == 1:\n",
    "        t = t.reshape(1, t.size)\n",
    "        y = y.reshape(1, y.size)\n",
    "\n",
    "    # 教師データがone-hot-vectorの場合、正解ラベルのインデックスに変換\n",
    "    if t.size == y.size:\n",
    "        t = t.argmax(axis=1)\n",
    "    batch_size = y.shape[0]\n",
    "    print(y[np.arange(batch_size), t])\n",
    "    print(np.log(y[np.arange(batch_size), t] + 1e-40))\n",
    "    print(np.log(np.array([0.01,0.01]) + 1e-40))\n",
    "    print(np.log(np.array([0.00000000001,0.000000000001]) + 1e-40))\n",
    "    return -np.sum(np.log(y[np.arange(batch_size), t] + 1e-16)) / batch_size"
   ]
  },
  {
   "cell_type": "code",
   "execution_count": 41,
   "metadata": {},
   "outputs": [],
   "source": [
    "y = np.array([[8.91598189e-15, 1.25614577e-08, 7.59592042e-10, 9.99999932e-01,\n",
    "  7.44070629e-13, 4.90183300e-08, 1.02646411e-11, 1.42480770e-14,\n",
    "  5.54706948e-09, 4.16483534e-16],[1.45455279e-09, 2.70525118e-03, 4.05052810e-29, 1.09883525e-34,\n",
    "  5.98370403e-36, 4.86226574e-38, 9.85225566e-31, 1.49346650e-35,\n",
    "  9.97294747e-01, 5.24005063e-15]])\n",
    "\"\"\"\n",
    " [2.50443003e-02 4.24501178e-07 1.05807373e-11 1.40219990e-13\n",
    "  4.08998863e-10 9.39688560e-11 6.67335585e-14 3.64880276e-10\n",
    "  9.74839214e-01 1.16060273e-04]\n",
    " [9.94537647e-01 3.38654105e-11 5.20910468e-05 1.26519756e-08\n",
    "  4.01716485e-06 1.09554261e-13 2.03017858e-13 1.48752459e-10\n",
    "  5.40623154e-03 2.47632896e-10]\n",
    " [1.39236127e-18 3.76201543e-10 1.26357658e-05 8.39923875e-03\n",
    "  6.30325056e-04 1.18396534e-01 8.72561266e-01 4.00860401e-17\n",
    "  2.97334692e-14 3.39033391e-12]\n",
    " [7.97882996e-14 1.35569330e-13 3.05556884e-04 1.59451049e-04\n",
    "  2.60736485e-04 1.01000524e-05 9.99264147e-01 8.18571460e-09\n",
    "  1.89993212e-11 2.23403092e-14]\n",
    " [2.27635691e-20 1.00000000e+00 3.38740888e-33 6.36995423e-18\n",
    "  3.06321494e-27 2.85702914e-11 7.70170071e-16 5.58697241e-15\n",
    "  5.29427247e-30 3.57148079e-12]\n",
    " [1.94196378e-11 7.38775762e-14 9.96047762e-01 1.01638705e-03\n",
    "  5.21274614e-08 4.48397119e-07 2.92896481e-03 6.36873529e-06\n",
    "  7.76674260e-15 1.68326423e-08]\n",
    " [8.77651415e-09 9.46910835e-14 1.95419562e-06 9.99950978e-01\n",
    "  6.70056768e-06 1.77182760e-05 2.26391912e-05 7.28672539e-10\n",
    "  3.71871902e-13 1.54286013e-14]\n",
    " [3.41684162e-14 9.99987290e-01 3.34068672e-20 4.20907271e-22\n",
    "  4.50727639e-20 4.87397274e-16 7.00027267e-13 5.26346725e-23\n",
    "  1.19963780e-11 1.27097765e-05]] )\"\"\"\n",
    "t = np.array([[0, 0, 0, 1, 0, 0, 0, 0, 0, 0],[0, 0, 0, 0, 0, 0, 0, 0, 1, 0]])"
   ]
  },
  {
   "cell_type": "code",
   "execution_count": 42,
   "metadata": {},
   "outputs": [
    {
     "name": "stdout",
     "output_type": "stream",
     "text": [
      "[0.99999993 0.99729475]\n",
      "[-6.80000023e-08 -2.70891881e-03]\n",
      "[-4.60517019 -4.60517019]\n",
      "[-25.32843602 -27.63102112]\n"
     ]
    },
    {
     "data": {
      "text/plain": [
       "0.0013544934048433824"
      ]
     },
     "execution_count": 42,
     "metadata": {},
     "output_type": "execute_result"
    }
   ],
   "source": [
    "cross_entropy_error(y,t) "
   ]
  },
  {
   "cell_type": "code",
   "execution_count": 10,
   "metadata": {},
   "outputs": [
    {
     "data": {
      "text/plain": [
       "2.9999999589720485e-08"
      ]
     },
     "execution_count": 10,
     "metadata": {},
     "output_type": "execute_result"
    }
   ],
   "source": [
    "np.log(0.99999993 + 1e-)"
   ]
  },
  {
   "cell_type": "code",
   "execution_count": null,
   "metadata": {},
   "outputs": [],
   "source": []
  }
 ],
 "metadata": {
  "kernelspec": {
   "display_name": "Python 3",
   "language": "python",
   "name": "python3"
  },
  "language_info": {
   "codemirror_mode": {
    "name": "ipython",
    "version": 3
   },
   "file_extension": ".py",
   "mimetype": "text/x-python",
   "name": "python",
   "nbconvert_exporter": "python",
   "pygments_lexer": "ipython3",
   "version": "3.7.12"
  }
 },
 "nbformat": 4,
 "nbformat_minor": 4
}
