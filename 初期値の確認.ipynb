{
 "cells": [
  {
   "cell_type": "markdown",
   "metadata": {},
   "source": [
    "### 目的\n",
    "- kerasと自作の重みを確認"
   ]
  },
  {
   "cell_type": "code",
   "execution_count": 1,
   "metadata": {},
   "outputs": [],
   "source": [
    "import tensorflow as tf\n",
    "import numpy as np\n",
    "import matplotlib.pyplot as plt\n",
    "%matplotlib inline\n",
    "import random\n",
    "import os\n",
    "\n",
    "def set_seed(seed = 42):\n",
    "    tf.random.set_seed(seed)\n",
    "\n",
    "    # optional\n",
    "    # for numpy.random\n",
    "    np.random.seed(seed)\n",
    "    # for built-in random\n",
    "    random.seed(seed)\n",
    "    \n",
    "import keras\n",
    "from keras.datasets import mnist\n",
    "from keras import regularizers\n",
    "from keras.models import Model\n",
    "from keras.layers import Dense, Dropout, Input\n",
    "from keras.optimizers import Adam\n",
    "\n",
    "# MNISTデータを読込む\n",
    "(x_train, y_train), (x_test, y_test) = mnist.load_data()\n",
    "\n",
    "# MNISTデータを加工する\n",
    "x_train  = x_train.reshape(60000, 784)\n",
    "x_test   = x_test.reshape(10000, 784)\n",
    "x_train  = x_train.astype('float32')\n",
    "x_test   = x_test.astype('float32')\n",
    "x_train /= 255\n",
    "x_test  /= 255\n",
    "y_train  = keras.utils.to_categorical(y_train, 10)\n",
    "y_test   = keras.utils.to_categorical(y_test, 10)"
   ]
  },
  {
   "cell_type": "code",
   "execution_count": 11,
   "metadata": {},
   "outputs": [],
   "source": [
    "#dir(Dense(10))"
   ]
  },
  {
   "cell_type": "markdown",
   "metadata": {},
   "source": [
    "# 中間層変更モデル"
   ]
  },
  {
   "cell_type": "code",
   "execution_count": 55,
   "metadata": {},
   "outputs": [],
   "source": [
    "\n",
    "\n",
    "# モデルの構築\n",
    "inputs = Input(shape=(784,))\n",
    "\n",
    "x = Dense(784, activation='relu', kernel_initializer='he_normal')(inputs)\n",
    "x = Dense(784, activation='relu',kernel_initializer='he_normal')(x)\n",
    "x = Dense(10, activation='softmax')(x)\n",
    "#x4 = x2 + x3\n",
    "model = Model(inputs=inputs, outputs=x)\n",
    "model.compile(loss='categorical_crossentropy', optimizer='adam', metrics=['accuracy'])\n",
    "\n"
   ]
  },
  {
   "cell_type": "code",
   "execution_count": 56,
   "metadata": {},
   "outputs": [
    {
     "data": {
      "text/plain": [
       "(-0.11483725, 0.11483626)"
      ]
     },
     "execution_count": 56,
     "metadata": {},
     "output_type": "execute_result"
    }
   ],
   "source": [
    "a,b= model.layers[1].get_weights()\n",
    "len(a),len(b)\n",
    "a.min(),a.max()"
   ]
  },
  {
   "cell_type": "code",
   "execution_count": 57,
   "metadata": {},
   "outputs": [
    {
     "data": {
      "text/plain": [
       "(-0.11483885, 0.114830784)"
      ]
     },
     "execution_count": 57,
     "metadata": {},
     "output_type": "execute_result"
    }
   ],
   "source": [
    "a,b= model.layers[2].get_weights()\n",
    "len(a),len(b)\n",
    "a.min(),a.max()"
   ]
  },
  {
   "cell_type": "code",
   "execution_count": 68,
   "metadata": {},
   "outputs": [],
   "source": [
    "b = np.random.randn(784,784) * np.sqrt(2.0/784) "
   ]
  },
  {
   "cell_type": "code",
   "execution_count": 69,
   "metadata": {},
   "outputs": [
    {
     "data": {
      "text/plain": [
       "(0.2396964017803427, -0.2368472782501596)"
      ]
     },
     "execution_count": 69,
     "metadata": {},
     "output_type": "execute_result"
    }
   ],
   "source": [
    "b.max(), b.min()"
   ]
  },
  {
   "cell_type": "code",
   "execution_count": 23,
   "metadata": {},
   "outputs": [
    {
     "data": {
      "text/plain": [
       "(-0.06185891, 0.061858643)"
      ]
     },
     "execution_count": 23,
     "metadata": {},
     "output_type": "execute_result"
    }
   ],
   "source": []
  },
  {
   "cell_type": "code",
   "execution_count": 24,
   "metadata": {},
   "outputs": [
    {
     "data": {
      "text/plain": [
       "(784, 784)"
      ]
     },
     "execution_count": 24,
     "metadata": {},
     "output_type": "execute_result"
    }
   ],
   "source": [
    "a.shape"
   ]
  },
  {
   "cell_type": "code",
   "execution_count": 20,
   "metadata": {},
   "outputs": [
    {
     "name": "stdout",
     "output_type": "stream",
     "text": [
      "Model: \"model_2\"\n",
      "_________________________________________________________________\n",
      "Layer (type)                 Output Shape              Param #   \n",
      "=================================================================\n",
      "input_3 (InputLayer)         [(None, 784)]             0         \n",
      "_________________________________________________________________\n",
      "dense_6 (Dense)              (None, 100)               78500     \n",
      "_________________________________________________________________\n",
      "dense_7 (Dense)              (None, 10)                1010      \n",
      "=================================================================\n",
      "Total params: 79,510\n",
      "Trainable params: 79,510\n",
      "Non-trainable params: 0\n",
      "_________________________________________________________________\n"
     ]
    }
   ],
   "source": [
    "model.summary()"
   ]
  },
  {
   "cell_type": "code",
   "execution_count": null,
   "metadata": {},
   "outputs": [],
   "source": []
  },
  {
   "cell_type": "code",
   "execution_count": 91,
   "metadata": {},
   "outputs": [],
   "source": [
    "w1_normal, w2_normal = model.layers[1].get_weights()[0],model.layers[2].get_weights()[0]"
   ]
  },
  {
   "cell_type": "code",
   "execution_count": 98,
   "metadata": {},
   "outputs": [],
   "source": [
    "#for w in w1_normal:\n",
    "#    print(w.shape)"
   ]
  },
  {
   "cell_type": "code",
   "execution_count": 94,
   "metadata": {},
   "outputs": [
    {
     "data": {
      "text/plain": [
       "(array([ 8.,  8., 13.,  9.,  8., 15., 13.,  5., 11., 10.]),\n",
       " array([-0.04880542, -0.0389318 , -0.02905818, -0.01918457, -0.00931095,\n",
       "         0.00056266,  0.01043628,  0.02030989,  0.03018351,  0.04005712,\n",
       "         0.04993074], dtype=float32),\n",
       " <a list of 10 Patch objects>)"
      ]
     },
     "execution_count": 94,
     "metadata": {},
     "output_type": "execute_result"
    },
    {
     "data": {
      "image/png": "[encoded data removed]",
      "text/plain": [
       "<Figure size 432x288 with 1 Axes>"
      ]
     },
     "metadata": {
      "needs_background": "light"
     },
     "output_type": "display_data"
    }
   ],
   "source": [
    "plt.hist(w1_normal[0])"
   ]
  },
  {
   "cell_type": "markdown",
   "metadata": {},
   "source": [
    "# Dropout"
   ]
  },
  {
   "cell_type": "code",
   "execution_count": 65,
   "metadata": {},
   "outputs": [
    {
     "name": "stdout",
     "output_type": "stream",
     "text": [
      "Epoch 1/5\n",
      "469/469 [==============================] - 5s 10ms/step - loss: 0.5472 - accuracy: 0.8425 - val_loss: 0.1450 - val_accuracy: 0.9574\n",
      "Epoch 2/5\n",
      "469/469 [==============================] - 6s 12ms/step - loss: 0.1562 - accuracy: 0.9554 - val_loss: 0.0999 - val_accuracy: 0.9711\n",
      "Epoch 3/5\n",
      "469/469 [==============================] - 4s 9ms/step - loss: 0.1133 - accuracy: 0.9660 - val_loss: 0.0859 - val_accuracy: 0.9741\n",
      "Epoch 4/5\n",
      "469/469 [==============================] - 4s 9ms/step - loss: 0.0871 - accuracy: 0.9731 - val_loss: 0.0731 - val_accuracy: 0.9778\n",
      "Epoch 5/5\n",
      "469/469 [==============================] - 4s 9ms/step - loss: 0.0721 - accuracy: 0.9776 - val_loss: 0.0630 - val_accuracy: 0.9802\n",
      "313/313 [==============================] - 1s 2ms/step - loss: 0.0630 - accuracy: 0.9802\n",
      "\n",
      "Test loss: 0.06303290277719498\n",
      "Test accuracy: 0.9801999926567078\n"
     ]
    }
   ],
   "source": [
    "inputs = Input(shape=(784,))\n",
    "\n",
    "x = Dense(784, activation='relu',kernel_initializer='random_uniform', name = \"hoge\")(inputs)\n",
    "x = Dense(784, activation='relu',kernel_initializer='random_uniform')(inputs)\n",
    "x = Dropout(0.5, seed=42)(x)\n",
    "x = Dense(10, activation='softmax', kernel_initializer='random_uniform')(x)\n",
    "#x4 = x2 + x3\n",
    "model = Model(inputs=inputs, outputs=x)\n",
    "model.compile(loss='categorical_crossentropy', optimizer='adam', metrics=['accuracy'])\n",
    "\n",
    "# 学習\n",
    "epochs = 5\n",
    "batch_size = 128\n",
    "history = model.fit(x_train, y_train, batch_size=batch_size, epochs=epochs, verbose=1, validation_data=(x_test, y_test))\n",
    "\n",
    "# 検証\n",
    "score = model.evaluate(x_test, y_test, verbose=1)\n",
    "print()\n",
    "print('Test loss:', score[0])\n",
    "print('Test accuracy:', score[1])"
   ]
  },
  {
   "cell_type": "code",
   "execution_count": 66,
   "metadata": {},
   "outputs": [
    {
     "data": {
      "text/plain": [
       "[<tensorflow.python.keras.engine.input_layer.InputLayer at 0x1594ee390>,\n",
       " <tensorflow.python.keras.layers.core.Dense at 0x14027ea50>,\n",
       " <tensorflow.python.keras.layers.core.Dropout at 0x14d4cc5d0>,\n",
       " <tensorflow.python.keras.layers.core.Dense at 0x14d530090>]"
      ]
     },
     "execution_count": 66,
     "metadata": {},
     "output_type": "execute_result"
    }
   ],
   "source": [
    "model.layers"
   ]
  },
  {
   "cell_type": "code",
   "execution_count": 67,
   "metadata": {},
   "outputs": [
    {
     "data": {
      "text/plain": [
       "(array([  9.,  37.,  95., 169., 188., 151.,  90.,  33.,  11.,   1.]),\n",
       " array([-0.10077626, -0.07640316, -0.05203008, -0.02765699, -0.0032839 ,\n",
       "         0.02108919,  0.04546228,  0.06983536,  0.09420846,  0.11858154,\n",
       "         0.14295463], dtype=float32),\n",
       " <a list of 10 Patch objects>)"
      ]
     },
     "execution_count": 67,
     "metadata": {},
     "output_type": "execute_result"
    },
    {
     "data": {
      "image/png": "[encoded data removed]",
      "text/plain": [
       "<Figure size 432x288 with 1 Axes>"
      ]
     },
     "metadata": {
      "needs_background": "light"
     },
     "output_type": "display_data"
    }
   ],
   "source": [
    "w1, w2 = model.layers[1].get_weights()[1],model.layers[2].get_weights()\n",
    "plt.hist(w1)"
   ]
  },
  {
   "cell_type": "code",
   "execution_count": null,
   "metadata": {},
   "outputs": [],
   "source": []
  },
  {
   "cell_type": "markdown",
   "metadata": {},
   "source": [
    "### L1 loss"
   ]
  },
  {
   "cell_type": "code",
   "execution_count": 86,
   "metadata": {},
   "outputs": [
    {
     "name": "stdout",
     "output_type": "stream",
     "text": [
      "Epoch 1/10\n",
      "469/469 [==============================] - 7s 13ms/step - loss: 4.1352 - accuracy: 0.8093 - val_loss: 1.0311 - val_accuracy: 0.8933\n",
      "Epoch 2/10\n",
      "469/469 [==============================] - 5s 11ms/step - loss: 0.9961 - accuracy: 0.8847 - val_loss: 0.8389 - val_accuracy: 0.9031\n",
      "Epoch 3/10\n",
      "469/469 [==============================] - 5s 10ms/step - loss: 0.8421 - accuracy: 0.8969 - val_loss: 0.7623 - val_accuracy: 0.9058\n",
      "Epoch 4/10\n",
      "469/469 [==============================] - 5s 11ms/step - loss: 0.7585 - accuracy: 0.9057 - val_loss: 0.6952 - val_accuracy: 0.9170\n",
      "Epoch 5/10\n",
      "469/469 [==============================] - 4s 9ms/step - loss: 0.6985 - accuracy: 0.9149 - val_loss: 0.6606 - val_accuracy: 0.9213\n",
      "Epoch 6/10\n",
      "469/469 [==============================] - 4s 9ms/step - loss: 0.6708 - accuracy: 0.9179 - val_loss: 0.6379 - val_accuracy: 0.9246\n",
      "Epoch 7/10\n",
      "469/469 [==============================] - 4s 9ms/step - loss: 0.6446 - accuracy: 0.9212 - val_loss: 0.6277 - val_accuracy: 0.9265\n",
      "Epoch 8/10\n",
      "469/469 [==============================] - 4s 9ms/step - loss: 0.6275 - accuracy: 0.9243 - val_loss: 0.6034 - val_accuracy: 0.9292\n",
      "Epoch 9/10\n",
      "469/469 [==============================] - 4s 9ms/step - loss: 0.6180 - accuracy: 0.9255 - val_loss: 0.5944 - val_accuracy: 0.9302\n",
      "Epoch 10/10\n",
      "469/469 [==============================] - 5s 10ms/step - loss: 0.6041 - accuracy: 0.9273 - val_loss: 0.5854 - val_accuracy: 0.9310\n",
      "313/313 [==============================] - 1s 5ms/step - loss: 0.5854 - accuracy: 0.9310\n",
      "\n",
      "Test loss: 0.585414707660675\n",
      "Test accuracy: 0.9309999942779541\n"
     ]
    }
   ],
   "source": [
    "\n",
    "inputs = Input(shape=(784,))\n",
    "lamda1= 0.001\n",
    "x = Dense(784, activation='relu',kernel_initializer='random_uniform', kernel_regularizer=regularizers.l1(lamda1))(inputs)\n",
    "x = Dense(784, activation='relu',kernel_initializer='random_uniform',kernel_regularizer=regularizers.l1(lamda1))(inputs)\n",
    "x = Dense(10, activation='softmax', kernel_initializer='random_uniform',kernel_regularizer=regularizers.l1(lamda1))(x)\n",
    "#x4 = x2 + x3\n",
    "model = Model(inputs=inputs, outputs=x)\n",
    "model.compile(loss='categorical_crossentropy', optimizer='adam', metrics=['accuracy'])\n",
    "\n",
    "# 学習\n",
    "epochs = 10\n",
    "batch_size = 128\n",
    "history = model.fit(x_train, y_train, batch_size=batch_size, epochs=epochs, verbose=1, validation_data=(x_test, y_test))\n",
    "\n",
    "# 検証\n",
    "score = model.evaluate(x_test, y_test, verbose=1)\n",
    "print()\n",
    "print('Test loss:', score[0])\n",
    "print('Test accuracy:', score[1])"
   ]
  },
  {
   "cell_type": "code",
   "execution_count": 88,
   "metadata": {},
   "outputs": [
    {
     "data": {
      "text/plain": [
       "(array([[0., 0., 0., ..., 0., 0., 0.],\n",
       "        [0., 0., 0., ..., 0., 0., 0.],\n",
       "        [0., 0., 0., ..., 0., 0., 0.],\n",
       "        ...,\n",
       "        [0., 0., 0., ..., 0., 0., 0.],\n",
       "        [0., 0., 0., ..., 0., 0., 0.],\n",
       "        [0., 0., 0., ..., 0., 0., 0.]]),\n",
       " array([-0.8589173 , -0.7115295 , -0.56414163, -0.4167538 , -0.26936597,\n",
       "        -0.12197813,  0.0254097 ,  0.17279753,  0.32018536,  0.4675732 ,\n",
       "         0.614961  ], dtype=float32),\n",
       " <a list of 784 Lists of Patches objects>)"
      ]
     },
     "execution_count": 88,
     "metadata": {},
     "output_type": "execute_result"
    },
    {
     "data": {
      "image/png": "[encoded data removed]",
      "text/plain": [
       "<Figure size 432x288 with 1 Axes>"
      ]
     },
     "metadata": {
      "needs_background": "light"
     },
     "output_type": "display_data"
    }
   ],
   "source": [
    "w1, w2 = model.layers[1].get_weights()[0],model.layers[2].get_weights()[0]\n",
    "plt.hist(w1)"
   ]
  },
  {
   "cell_type": "code",
   "execution_count": 89,
   "metadata": {},
   "outputs": [
    {
     "data": {
      "text/plain": [
       "array([ 1.37226365e-04, -9.02152824e-05,  3.07791124e-05,  8.05386007e-05,\n",
       "        4.25530488e-05, -9.80139157e-05,  2.37027183e-04,  2.71856872e-04,\n",
       "       -5.82511275e-05,  5.30338002e-06, -6.39396458e-05, -7.70007246e-05,\n",
       "        1.78689981e-04,  6.28320995e-05,  2.07129080e-04, -2.08741971e-04,\n",
       "       -2.57104781e-04, -1.40178599e-05,  2.27991986e-04,  1.66978789e-05,\n",
       "        1.67638034e-04,  7.42092816e-05, -1.77329275e-04, -5.12280239e-05,\n",
       "       -6.42707892e-05, -9.75342846e-06, -3.74850060e-06,  7.45295256e-06,\n",
       "        9.58788150e-05,  5.34111314e-05, -2.58032778e-05, -1.13239366e-05,\n",
       "       -4.27124760e-04,  1.68120241e-04, -9.51187758e-05,  1.32080386e-05,\n",
       "        6.17589467e-05, -3.12195334e-06,  2.77000509e-04, -2.06597208e-04,\n",
       "       -6.98770891e-05, -9.50850881e-05, -2.06373334e-05, -1.23297883e-04,\n",
       "       -1.48998937e-04, -1.14242532e-04,  3.51406110e-04,  1.75378809e-05,\n",
       "        2.40272551e-04,  1.34859962e-04,  1.53130255e-04, -2.50566867e-04,\n",
       "       -3.72608920e-05,  2.03215153e-04,  1.73766748e-05,  1.78461763e-04,\n",
       "        2.29131241e-04,  5.31206297e-07,  2.94228084e-06, -2.97967563e-05,\n",
       "       -1.12346694e-04,  2.72272373e-05, -2.13604595e-04, -5.53901918e-05,\n",
       "        2.22166607e-04, -6.90665547e-05, -3.68056862e-05, -1.52925772e-04,\n",
       "        2.23676951e-04,  9.11897805e-05,  2.60853267e-05,  9.44259955e-05,\n",
       "       -4.81738971e-06,  1.06155843e-04, -1.23822698e-04,  1.77179718e-05,\n",
       "        1.12074456e-04, -2.32711318e-06, -3.21028987e-04, -4.77095164e-05,\n",
       "        2.26793854e-05, -5.07728400e-05, -3.50848168e-05,  3.93078517e-06,\n",
       "       -1.02942256e-04, -4.53420507e-05, -2.27890254e-04, -2.93541350e-04,\n",
       "        2.22649105e-04,  1.91595827e-05, -1.41414144e-04,  1.38187388e-04,\n",
       "       -2.42692840e-05, -4.91149985e-05,  1.39743992e-04,  8.98146172e-05,\n",
       "        6.89946319e-05,  1.57508941e-04, -2.47644857e-06, -7.78141839e-06,\n",
       "        1.20884026e-04,  2.09903679e-04,  1.92728374e-04, -1.57214366e-04,\n",
       "        1.18469346e-04, -1.87445366e-05,  2.77084182e-04, -1.44133548e-04,\n",
       "       -7.29995227e-05,  2.52602389e-04, -1.12001959e-04, -1.30592060e-04,\n",
       "       -4.05776605e-04,  3.89840498e-05, -4.80581002e-05, -4.97872752e-05,\n",
       "        2.93459569e-04,  9.70267865e-05, -6.51256778e-05, -1.94182780e-04,\n",
       "       -3.28444257e-05,  1.35322218e-04, -8.94453697e-05, -1.20147313e-04,\n",
       "       -3.88682165e-05,  2.32538048e-04, -1.32170535e-04,  1.09688510e-04,\n",
       "        6.03571825e-05,  2.71775934e-06, -2.86273134e-05,  2.46491283e-04,\n",
       "        5.96251863e-04,  8.00465205e-06, -2.94119614e-04,  1.96999536e-04,\n",
       "        5.07922086e-05, -4.42258664e-04,  9.34134077e-05, -1.30258530e-04,\n",
       "        8.18939952e-05,  1.42794976e-04,  2.02327734e-04,  8.61450826e-05,\n",
       "        2.46692944e-04,  1.02056321e-04,  2.33464234e-05, -1.83584154e-04,\n",
       "       -2.99390595e-05,  2.30867459e-04,  1.41031254e-04, -3.77429460e-05,\n",
       "       -1.31593246e-04, -1.08113309e-05,  2.73563317e-04,  2.27950324e-04,\n",
       "        4.23561614e-05,  3.51615745e-05,  1.38803916e-05,  6.45653927e-06,\n",
       "       -1.28025888e-04,  6.11311407e-07,  1.16571304e-04,  5.44078357e-05,\n",
       "       -1.32104266e-04, -2.81073553e-05,  6.73590112e-05, -2.78344160e-05,\n",
       "       -1.55823640e-04, -4.95056593e-05,  6.83793405e-05,  1.21240111e-04,\n",
       "        8.26267205e-05,  1.66692043e-05,  3.66251334e-06, -8.41919682e-05,\n",
       "        3.44491636e-05,  5.24137431e-06, -1.66491518e-05, -1.12291906e-04,\n",
       "        5.16530417e-05,  1.12106245e-05, -1.21417470e-05,  3.42875195e-04,\n",
       "        9.35143908e-05,  1.13488328e-04,  1.07258929e-04,  3.24807916e-05,\n",
       "       -1.79742477e-04, -8.22354195e-05, -4.08113992e-05,  4.02132719e-05,\n",
       "        2.17715569e-06, -2.60503148e-04, -2.16682922e-04,  8.91320960e-05,\n",
       "        4.73601336e-04,  2.98749510e-05,  1.31656343e-05,  8.36432082e-06,\n",
       "        1.47016341e-04, -1.75537221e-04, -4.67705322e-05, -2.40297159e-05,\n",
       "       -9.53657436e-05, -7.80102564e-05, -1.22825673e-04, -4.25097824e-07,\n",
       "        1.69358565e-04,  7.28728628e-06, -1.12017340e-04, -3.58057987e-05,\n",
       "        7.44476201e-05, -1.53087662e-04,  3.23806598e-05,  8.29663404e-05,\n",
       "       -1.11512800e-05, -1.94638080e-04,  2.97344595e-05, -8.65063339e-06,\n",
       "       -9.44417407e-05, -1.49909101e-05, -3.16136611e-05,  2.23917494e-04,\n",
       "        1.70981162e-04,  1.13048394e-04,  1.54400681e-04,  8.12625876e-05,\n",
       "       -1.87174635e-04,  1.24612416e-05,  1.59833799e-05,  2.77134532e-04,\n",
       "        9.94023649e-05,  2.57083739e-05, -2.42015391e-04,  1.78995222e-04,\n",
       "        5.79731422e-05, -3.65462911e-05, -9.93335561e-05,  6.06210742e-05,\n",
       "       -1.75870009e-04, -2.17751294e-04,  3.84495579e-05,  1.61973818e-04,\n",
       "        2.25282376e-04,  5.50694676e-05, -3.14116623e-05, -2.81748245e-04,\n",
       "        2.41454618e-05,  2.39736488e-04,  1.93968226e-04, -5.26545864e-06,\n",
       "       -2.94443802e-04, -1.90902996e-04, -2.01914110e-04,  6.35427277e-05,\n",
       "        8.61890585e-05, -4.65297780e-05, -1.12917187e-04,  1.43962767e-04,\n",
       "       -1.93304208e-04, -6.27320114e-05,  3.08051422e-05,  6.14829332e-07,\n",
       "        3.98904376e-07, -1.45059661e-04,  3.83450621e-04,  4.19101241e-04,\n",
       "        2.20514645e-04,  1.50868451e-04,  6.80648009e-05, -1.41539378e-04,\n",
       "        6.80188750e-05, -8.55398248e-05,  2.72933714e-04,  1.41098644e-05,\n",
       "       -1.09586254e-05,  2.21031281e-04, -9.58181190e-05,  6.36508630e-05,\n",
       "       -5.38684617e-05, -1.27137086e-04, -2.10456550e-04,  3.58202553e-04,\n",
       "       -1.86073899e-04, -9.26753492e-05, -4.95613058e-05, -6.34192693e-05,\n",
       "        9.89552354e-05, -7.32908593e-05, -1.29820502e-04,  6.06436188e-05,\n",
       "        5.01178438e-05, -1.02709979e-04,  1.63926321e-04, -3.23520653e-05,\n",
       "       -9.76654192e-05, -1.51564585e-04, -3.52085481e-05,  2.73902551e-05,\n",
       "        4.04007988e-05, -4.10994806e-04, -1.13585913e-04,  8.21443828e-05,\n",
       "       -1.77428359e-04,  7.22606201e-05,  2.21613755e-05, -8.67914714e-05,\n",
       "        6.84500119e-05, -3.19887244e-04,  3.67868233e-05,  1.58304203e-04,\n",
       "       -2.51875666e-04, -1.98594265e-04, -1.79464841e-05,  2.26486969e-04,\n",
       "        3.87091859e-05,  1.25896418e-04, -1.05968837e-04, -1.28897271e-04,\n",
       "        2.80225067e-05,  1.26672530e-05,  1.24812621e-04, -9.63625134e-05,\n",
       "       -1.40733231e-04, -1.70654675e-06,  4.08375199e-05,  5.64967486e-05,\n",
       "        6.43446256e-05,  1.70122672e-04, -9.16560384e-05,  1.58259609e-05,\n",
       "       -1.36680625e-04,  3.40697326e-04, -5.57774583e-05,  2.21793525e-05,\n",
       "        3.51559866e-05,  3.37528400e-06,  6.38415149e-05,  2.57234351e-05,\n",
       "        3.63200124e-05, -4.07610642e-04,  6.68227149e-05,  8.88035866e-05,\n",
       "       -4.90024104e-06, -1.75516238e-04, -3.85025996e-05, -5.10508107e-06,\n",
       "       -1.08808497e-04,  1.76937479e-04, -3.14381585e-04, -1.39005802e-04,\n",
       "       -1.08223336e-04, -9.14593184e-05,  1.51446162e-04,  8.39354470e-06,\n",
       "        1.44697013e-04, -4.05773608e-06,  4.94844026e-05,  1.40163756e-05,\n",
       "        7.27646257e-05, -1.52418768e-04, -1.53299508e-04, -2.74637423e-05,\n",
       "        5.17661829e-05,  6.73371687e-05,  2.83340982e-04,  6.83646504e-05,\n",
       "        5.00498398e-04, -2.01875751e-04, -2.04880256e-04, -1.62133801e-04,\n",
       "        8.36098407e-05, -2.10618564e-05, -2.84545036e-04, -5.50865952e-05,\n",
       "       -1.33227586e-04,  5.85847520e-05, -4.15085378e-05, -2.11047358e-04,\n",
       "        1.22880301e-04, -2.49792414e-04,  2.38028842e-05,  3.75361233e-05,\n",
       "        1.23811944e-04,  2.85906077e-04,  9.57072280e-06,  3.49273090e-04,\n",
       "       -2.72460515e-04, -2.41402828e-04,  1.61061864e-04,  3.46849905e-04,\n",
       "        4.94602864e-05, -1.35425507e-05,  4.68593498e-06, -2.06107114e-04,\n",
       "        1.01947735e-04, -3.18638340e-05,  4.05586543e-05, -6.06209360e-05,\n",
       "       -4.66044003e-06,  5.80575670e-06,  3.52709962e-04, -2.08098063e-05,\n",
       "       -6.97325013e-05,  1.28885891e-04,  1.02174745e-05,  4.96334251e-05,\n",
       "        1.76383182e-04, -2.61718727e-04,  1.91329033e-04, -7.62545096e-06,\n",
       "       -1.38152274e-04,  4.61781674e-05,  7.56086447e-05,  1.31258887e-04,\n",
       "       -3.26591660e-04, -1.32273475e-04, -8.97633654e-05,  8.34293751e-05,\n",
       "       -7.59717223e-05,  8.33021913e-05,  6.92121830e-06,  1.65079400e-05,\n",
       "       -8.03100702e-05,  4.48293460e-04, -3.61748462e-05, -3.40822560e-04,\n",
       "        3.56713645e-05,  3.92687944e-05, -4.41300217e-04, -1.93281361e-04,\n",
       "        2.01019211e-04, -3.30727562e-06, -4.52549612e-05,  3.59330661e-05,\n",
       "        1.07847889e-04,  8.24671661e-05, -3.01194639e-04,  2.10521262e-04,\n",
       "       -1.98123540e-04,  1.28516651e-04, -4.02914156e-05,  1.38575851e-05,\n",
       "       -1.28056650e-04,  2.20686008e-04,  2.78836291e-04,  1.70368876e-05,\n",
       "        3.69599002e-05, -1.24541562e-04, -1.70554660e-04, -2.29811136e-04,\n",
       "       -1.33355206e-04, -7.33595516e-06, -8.95989870e-05, -6.92429603e-05,\n",
       "       -2.42687573e-04,  2.23012321e-04, -3.99512865e-05,  1.17765579e-04,\n",
       "       -4.42515520e-05,  6.52282906e-05,  1.28451997e-04, -1.07988308e-06,\n",
       "       -1.41320445e-04,  6.68219727e-05, -6.43622479e-06,  4.07016414e-05,\n",
       "       -1.82089279e-04, -1.09106433e-04,  7.22748664e-05,  8.54886603e-05,\n",
       "       -5.27725060e-05,  7.55231231e-05,  2.89924428e-05, -1.02826401e-04,\n",
       "       -2.24390969e-04, -1.34691305e-04,  2.42247566e-04,  4.13899033e-05,\n",
       "       -1.63024233e-04,  9.24202104e-05,  1.78703864e-04, -6.42836821e-05,\n",
       "       -1.56642869e-04, -3.15331155e-04, -1.17879143e-04, -2.45335861e-04,\n",
       "       -6.14575401e-06, -2.46095442e-06, -2.49796954e-04,  1.96986424e-04,\n",
       "       -3.15619982e-05,  9.94281436e-05, -5.81737404e-05,  1.35537382e-04,\n",
       "       -7.08041916e-05, -1.80638628e-04, -5.62002242e-05, -8.78197097e-05,\n",
       "       -4.12400441e-05, -7.14681664e-05, -1.20668970e-04,  2.43156188e-04,\n",
       "        4.82662290e-06,  1.33062800e-04,  1.20202691e-04,  1.12439739e-04,\n",
       "       -5.25494761e-06, -1.98064314e-04,  3.09348456e-04, -3.21435567e-04,\n",
       "        3.99097007e-05, -3.88915651e-05,  4.02267295e-04, -2.41181682e-04,\n",
       "       -3.91782232e-05,  1.88747945e-04, -6.72019232e-05, -2.20553979e-04,\n",
       "       -4.03179001e-07,  4.34384892e-05,  2.29433703e-04,  7.13698246e-05,\n",
       "        1.60266900e-05,  1.38357582e-05, -1.63162185e-04,  1.28128828e-04,\n",
       "        1.88649210e-05, -8.24084491e-05, -4.94131891e-05,  1.56285139e-04,\n",
       "       -7.24816200e-05,  1.74840534e-04,  1.24169324e-04, -1.49854204e-05,\n",
       "       -3.54715812e-05, -2.31456215e-05, -2.57558946e-04, -4.18716700e-05,\n",
       "        2.48354008e-05, -7.23015546e-06, -1.41740849e-04,  1.64829326e-05,\n",
       "        2.83441768e-05, -4.15374816e-05, -1.90224033e-04,  1.54028123e-04,\n",
       "       -8.93627584e-05,  1.88083468e-05, -7.26710277e-05,  3.66141961e-04,\n",
       "        4.32558518e-05,  9.73201822e-05, -1.02395934e-04, -1.34684873e-04,\n",
       "       -7.12651090e-05, -8.06214666e-06,  1.84252669e-04, -2.94042809e-04,\n",
       "        2.63080510e-05,  2.03191739e-05, -7.93785584e-05, -8.78855208e-05,\n",
       "        1.26092520e-04, -8.48801865e-05,  5.12693368e-04,  3.31610645e-04,\n",
       "        2.46691459e-04,  1.55508285e-04, -1.78999937e-04,  3.36231606e-05,\n",
       "        3.79867153e-04, -4.03093800e-05,  1.12640650e-04, -1.12938047e-04,\n",
       "       -1.85587523e-05,  3.50697810e-05,  6.40830112e-05, -7.71460691e-05,\n",
       "       -6.97232390e-05, -1.17419477e-04, -8.06834214e-06,  1.46414692e-04,\n",
       "       -2.18113433e-04, -9.74016075e-06,  1.92342690e-04,  6.62690436e-05,\n",
       "        6.44155298e-05,  1.30507935e-04, -2.09584359e-05,  1.68460974e-05,\n",
       "       -9.99273761e-05,  2.37453874e-04,  2.11241073e-04,  2.07977428e-06,\n",
       "       -2.70231722e-05, -1.72261352e-04,  2.25268042e-04, -3.58446414e-05,\n",
       "        1.34738133e-04,  2.27433236e-04, -1.91465791e-04,  4.51266387e-05,\n",
       "        2.57891588e-05,  8.80261359e-06,  3.20070423e-04, -5.91274911e-05,\n",
       "       -7.34291389e-05,  3.85799503e-04,  6.86885396e-05, -4.18461423e-06,\n",
       "       -2.59944209e-05, -2.11277526e-04,  3.61073005e-04, -6.66007327e-05,\n",
       "        9.54011921e-06, -1.71537948e-04,  1.31451350e-04, -1.14693496e-04,\n",
       "        1.79617171e-04, -1.26649727e-04,  1.56684662e-04, -6.80606900e-05,\n",
       "        4.64663608e-05, -3.87132022e-05,  3.89748675e-06, -2.87754956e-04,\n",
       "        9.44299536e-05, -6.02299988e-05, -2.84147172e-05,  1.58332696e-04,\n",
       "       -3.79554986e-05,  1.23936392e-04, -1.73988592e-04,  1.37064984e-04,\n",
       "       -1.68955070e-04,  2.53162943e-05,  5.62637651e-05, -2.47176649e-04,\n",
       "       -2.62579269e-04,  3.13949189e-04,  3.33832926e-04,  2.10210244e-04,\n",
       "       -6.77060889e-05, -9.34685449e-05, -4.41814846e-05, -1.74048706e-04,\n",
       "       -6.04950983e-05, -2.58168817e-04, -1.76616188e-04,  4.52089735e-05,\n",
       "        1.52497698e-04,  1.42958685e-04, -1.07318156e-04, -5.97653561e-05,\n",
       "       -8.70095027e-05, -2.89519434e-04, -6.26272958e-05, -2.16316985e-04,\n",
       "        5.95009915e-05, -6.31383009e-05, -1.47718956e-05,  1.57039467e-04,\n",
       "       -6.97490541e-05,  2.64612550e-04,  4.59273229e-04, -5.18416819e-05,\n",
       "       -5.01252216e-05,  8.95831909e-05,  1.56692768e-04,  2.34964158e-04,\n",
       "        2.07377190e-04, -2.42328679e-04, -8.45865652e-05,  1.60496740e-04,\n",
       "        1.27324092e-05, -4.87873680e-04,  1.03723331e-04,  2.78239168e-04,\n",
       "        7.15209244e-05,  4.84857483e-05, -4.05750092e-04,  9.93162830e-05,\n",
       "       -4.78637405e-04,  1.97244735e-05, -7.76342858e-06,  1.40672608e-04,\n",
       "        4.54015244e-05,  1.11699599e-04, -1.56701310e-04,  7.03749683e-05,\n",
       "        5.84396694e-05,  1.36648450e-05,  1.08428139e-05,  2.96757120e-04,\n",
       "        7.80381743e-05,  2.10179060e-05,  5.11157959e-05,  1.51133572e-04,\n",
       "        4.67398786e-05, -8.25182578e-05,  8.80189909e-05, -6.48622517e-06,\n",
       "        4.34804497e-05,  1.76272792e-04,  4.50270309e-05, -1.63389879e-04,\n",
       "       -1.65036065e-04,  8.29395722e-05,  9.81535850e-05, -2.39198416e-05,\n",
       "        1.16328592e-05,  2.16869485e-05,  1.13913164e-04,  9.14521297e-05,\n",
       "       -2.41939269e-04, -4.14803566e-04, -9.67059386e-05,  2.48079916e-04,\n",
       "       -3.80425918e-05,  1.75411697e-04, -9.19012455e-05,  1.35861483e-05,\n",
       "       -1.80232091e-04, -2.43127157e-04, -8.09666381e-06, -1.21647980e-04,\n",
       "       -1.82485499e-04,  2.30369478e-05, -2.67559255e-04,  1.69398350e-04,\n",
       "       -4.06824292e-05, -3.03877459e-05,  6.27949339e-06, -2.19318186e-04,\n",
       "        3.18794366e-04,  2.21734896e-04, -1.27424326e-04,  8.02278191e-06,\n",
       "        1.42114935e-04,  1.11126210e-04, -1.78701303e-04, -1.78788905e-05,\n",
       "        1.15709390e-05,  3.27344751e-05, -2.07353733e-05, -9.65718136e-05,\n",
       "       -2.33735700e-04,  1.48944964e-04, -1.77205264e-04,  7.25890714e-05,\n",
       "        1.84311459e-04, -4.29419160e-04,  2.08696190e-04, -1.02077873e-04,\n",
       "        3.12137417e-04,  1.77324109e-05,  2.30079502e-04,  3.73660936e-04,\n",
       "       -2.00681839e-04, -6.47564011e-05, -1.41787081e-04, -7.83938813e-05,\n",
       "        2.48895376e-04,  1.41335477e-05,  1.45935002e-04, -7.81411072e-05,\n",
       "       -2.75002458e-05,  9.16168283e-05, -5.13042469e-05,  1.92893553e-04,\n",
       "        9.70088076e-05,  1.57520873e-04, -2.22820585e-04,  4.82149626e-05,\n",
       "        1.00074540e-05, -4.16092225e-05, -6.44338797e-05, -9.38863523e-05,\n",
       "       -2.59299413e-05, -1.26274565e-04,  1.58790674e-04,  7.99035188e-05],\n",
       "      dtype=float32)"
      ]
     },
     "execution_count": 89,
     "metadata": {},
     "output_type": "execute_result"
    }
   ],
   "source": [
    "w1[0]"
   ]
  },
  {
   "cell_type": "code",
   "execution_count": 81,
   "metadata": {},
   "outputs": [
    {
     "data": {
      "text/plain": [
       "(array([ 2.76551414e-02,  6.33960590e-02,  1.67887881e-02,  1.70453377e-02,\n",
       "         3.39185819e-02,  2.81291120e-02, -1.38294315e-02,  5.02941478e-03,\n",
       "         2.06755605e-02, -1.48576899e-02, -1.10480459e-02,  3.52309644e-02,\n",
       "        -9.20428522e-03,  1.54305827e-02, -2.43159439e-02,  4.48304834e-03,\n",
       "         4.45353752e-03,  3.21752168e-02,  3.26458216e-02, -4.52606715e-02,\n",
       "        -8.21170118e-03, -1.49872787e-02, -7.04619242e-03,  3.58011462e-02,\n",
       "        -1.21901706e-02,  6.62941067e-03, -1.08156325e-02,  1.19552168e-03,\n",
       "         5.01031913e-02,  2.97915433e-02, -1.69000635e-03,  1.35188876e-02,\n",
       "         3.83059960e-03,  3.94525640e-02, -3.87112908e-02, -3.43945157e-03,\n",
       "        -2.26101410e-02, -4.65853605e-03,  5.40440977e-02,  3.58908176e-02,\n",
       "         3.83629650e-03,  6.34379045e-04,  1.48537557e-03,  4.51090978e-03,\n",
       "        -1.95236586e-03,  1.10584432e-02, -1.89232361e-03, -1.07738944e-02,\n",
       "         6.61257841e-03, -2.63737086e-02,  2.22636126e-02,  1.03126345e-02,\n",
       "         2.46540387e-03, -7.69193657e-03,  5.20045124e-02, -2.75162235e-02,\n",
       "         8.67618306e-04,  1.74828433e-02, -1.75737832e-02, -2.89954301e-02,\n",
       "        -1.60870552e-02,  1.79474838e-02, -4.14779934e-05,  4.87625971e-03,\n",
       "        -1.70373712e-02, -1.92030187e-04,  5.76234646e-02,  1.26500679e-02,\n",
       "         1.48600563e-02,  1.19317537e-02,  1.04457606e-02, -6.10053632e-03,\n",
       "         5.70807280e-03, -8.43944587e-03,  2.22046431e-02,  7.86496326e-03,\n",
       "         1.38574801e-02,  2.80436520e-02, -9.05317161e-03, -5.31759870e-05,\n",
       "         6.16996549e-02, -1.01343067e-02,  2.98937480e-03,  3.96285877e-02,\n",
       "         3.11147310e-02,  1.72942299e-02,  1.18384697e-02,  3.22682294e-03,\n",
       "         2.88352128e-02,  1.97640024e-02,  2.46893615e-02,  1.40437056e-04,\n",
       "         2.45985352e-02, -8.09145626e-03,  5.12295663e-02, -2.21192441e-03,\n",
       "         4.37336322e-03,  1.23281199e-02,  1.04944939e-02,  2.05196980e-02,\n",
       "         3.65948677e-02,  1.90788638e-02,  1.95544697e-02,  1.50066866e-02,\n",
       "         2.07987912e-02,  1.68674011e-02,  1.80982798e-02,  3.30975540e-02,\n",
       "        -1.65732205e-03,  2.97742542e-02,  2.15376597e-02,  2.07667965e-02,\n",
       "         3.93851139e-02,  8.46369099e-03,  3.32181603e-02,  1.70227047e-02,\n",
       "         8.33156332e-03,  2.64476016e-02, -6.85081817e-03,  4.22227383e-02,\n",
       "        -1.14642698e-02, -8.92358925e-03, -3.04323900e-02,  2.53516473e-02,\n",
       "         1.33884568e-02, -8.74291733e-03, -2.31468771e-02,  2.54392084e-02,\n",
       "        -6.57676067e-03, -2.01266073e-02, -1.29531426e-02, -2.07030773e-02,\n",
       "         1.68838631e-02,  2.67694984e-02, -1.37554668e-02, -1.53201399e-02,\n",
       "         5.58422618e-02,  7.84815997e-02,  8.77681363e-04, -2.90668532e-02,\n",
       "        -4.44861222e-03, -2.10152399e-02, -1.78661440e-02,  1.62659902e-02,\n",
       "         1.02959741e-02,  3.25403102e-02,  2.20663212e-02,  6.24276791e-03,\n",
       "        -1.71208158e-02, -1.22372014e-02,  1.68678258e-02,  2.81784572e-02,\n",
       "        -2.10158769e-02, -1.04170358e-02,  4.53006402e-02,  3.46392505e-02,\n",
       "         8.80773272e-03,  4.69551273e-02,  3.93010117e-02,  3.09057347e-02,\n",
       "         5.12520373e-02,  1.06867775e-02,  4.01460938e-02, -5.59139764e-03,\n",
       "        -8.25206935e-03,  6.27675327e-04,  4.57586534e-03,  9.20787640e-03,\n",
       "        -3.60484398e-03,  1.98791865e-02,  2.21029459e-03,  1.82620361e-02,\n",
       "         2.24945694e-02, -3.74694448e-03,  3.10053676e-02, -1.17752263e-02,\n",
       "         1.24676051e-02, -1.89630557e-02, -3.68690933e-03,  5.99611970e-03,\n",
       "         2.06076913e-02,  1.99604034e-02,  4.72214259e-02, -1.12764258e-03,\n",
       "         2.51528784e-03,  3.69734853e-03,  6.09237840e-03,  2.65256781e-02,\n",
       "        -1.60448831e-02, -1.16437087e-02,  1.27408560e-02, -1.32609368e-03,\n",
       "        -1.70486737e-02,  6.68505346e-03,  2.11495887e-02,  1.31983422e-02,\n",
       "         2.53409799e-02,  2.65346132e-02,  1.23528354e-02,  1.22095346e-02,\n",
       "        -1.53881805e-02,  1.04597090e-02,  3.85799296e-02,  3.25395800e-02,\n",
       "        -2.66940445e-02,  3.97154726e-02,  5.85150756e-02, -2.55036820e-02,\n",
       "         4.42602523e-02,  5.39692268e-02,  4.00177762e-02,  3.52249891e-02,\n",
       "        -7.04684411e-04, -2.87009706e-03,  1.98998512e-03,  1.07059674e-02,\n",
       "        -7.49946339e-03,  1.65447332e-02,  1.56348124e-02, -4.46490420e-04,\n",
       "         6.59802044e-03, -1.03812059e-02, -3.64362961e-03,  1.65569142e-03,\n",
       "         1.02604311e-02, -1.24650830e-02,  1.58004705e-02,  4.28097276e-03,\n",
       "         2.45900806e-02, -4.99578081e-02,  9.49073955e-03,  2.42121071e-02,\n",
       "        -1.85967679e-03, -2.75609232e-02,  2.33236868e-02,  2.84784031e-03,\n",
       "         2.05195099e-02,  2.47710180e-02,  6.76195323e-02,  2.07035877e-02,\n",
       "         1.86500289e-02,  3.77224311e-02,  1.56203657e-02,  1.24621941e-02,\n",
       "         2.09528953e-02,  5.91428438e-03,  2.10173670e-02,  8.04019719e-03,\n",
       "         4.73609157e-02,  2.39971764e-02, -1.90101899e-02,  1.93403289e-02,\n",
       "         2.81062759e-02,  4.92893942e-02,  1.57347973e-02,  2.37344578e-02,\n",
       "         4.42792326e-02,  5.30541204e-02,  3.23842317e-02,  5.42038903e-02,\n",
       "         2.25778501e-02, -1.22461212e-03,  3.73482034e-02,  6.80463910e-02,\n",
       "        -1.07682645e-02,  3.42092812e-02,  1.46886054e-02,  2.15035849e-04,\n",
       "         3.98988873e-02, -4.39931750e-02,  1.65410824e-02,  9.58396029e-03,\n",
       "         2.22464371e-02,  3.98422442e-02,  9.29006096e-03,  2.72831740e-03,\n",
       "         2.21127868e-02, -2.51994357e-02,  1.81062389e-02,  1.95445120e-03,\n",
       "         1.03818066e-02, -4.23567034e-02,  2.04588193e-02,  4.63166051e-02,\n",
       "         2.21018549e-02,  6.47827052e-03,  2.82378439e-02,  5.50173111e-02,\n",
       "         2.34767608e-02,  4.38543456e-03,  6.25597090e-02,  6.02780320e-02,\n",
       "        -4.85730991e-02,  2.33120956e-02, -1.71485636e-02, -4.18844447e-03,\n",
       "         7.08234217e-03,  6.20380342e-02,  1.45391421e-02,  5.09954579e-02,\n",
       "         1.13020707e-02, -6.81291893e-03, -1.70062352e-02,  2.75599845e-02,\n",
       "         2.78811138e-02, -1.33659886e-02, -3.34920213e-02, -8.53860006e-03,\n",
       "         1.37246782e-02,  3.35985199e-02,  9.64284223e-03,  4.06896323e-02,\n",
       "        -1.04777925e-02,  1.04836430e-02, -3.30037251e-03,  2.16049142e-02,\n",
       "        -2.25218246e-03,  4.93958592e-02, -2.47696433e-02,  2.86918115e-02,\n",
       "         1.75824435e-03,  4.06520702e-02, -2.33763782e-03,  1.97098684e-02,\n",
       "         1.39714312e-03,  4.20745723e-02,  7.77254440e-03, -2.62600370e-03,\n",
       "        -4.52545658e-03, -1.05940839e-02,  9.07373428e-03,  9.29811690e-03,\n",
       "         7.94517249e-03,  1.80274080e-02,  4.15874738e-03, -3.59523557e-02,\n",
       "         6.43392466e-03,  4.37147059e-02, -2.37146188e-02,  4.27477770e-02,\n",
       "        -1.57639589e-02, -3.55754420e-02,  3.11036650e-02,  3.33969742e-02,\n",
       "         2.76745427e-02, -4.69766464e-03,  1.66101847e-02, -3.32639599e-03,\n",
       "         2.19684951e-02,  8.87064263e-03,  8.84601008e-03, -1.48683460e-02,\n",
       "         4.99336310e-02,  1.83019117e-02,  1.11673893e-02, -7.04540592e-03,\n",
       "         2.88994499e-02, -1.02971550e-02, -1.36983739e-02,  1.54076545e-02,\n",
       "         2.35930714e-03,  2.82110292e-02, -1.10098068e-02,  7.74478167e-03,\n",
       "         2.54402533e-02,  7.70595530e-03,  2.79666968e-02,  4.64106686e-02,\n",
       "         4.57549393e-02,  5.35490736e-03,  1.49011174e-02, -9.45730973e-03,\n",
       "        -3.61666158e-02,  3.92955774e-03,  1.73985977e-02,  1.94844510e-02,\n",
       "         1.23146400e-02,  3.29352207e-02,  3.33808661e-02,  1.48458173e-02,\n",
       "        -3.57049285e-03, -2.37130746e-02,  2.42609102e-02,  1.43695539e-02,\n",
       "        -4.42427408e-04,  2.25444473e-02,  1.88638642e-03,  2.77758148e-02,\n",
       "         2.44176984e-02, -5.53245377e-03, -5.51679684e-03,  2.79400852e-02,\n",
       "         1.84356831e-02,  1.62395239e-02, -2.45415140e-02,  8.26150458e-03,\n",
       "         5.12586860e-03, -5.07241627e-03,  2.61638686e-02, -1.20050870e-02,\n",
       "         4.73634154e-02, -2.17041373e-02,  2.50521749e-02,  3.07890866e-02,\n",
       "         1.79331936e-02,  9.45405010e-03, -1.37113419e-03, -2.20447984e-02,\n",
       "         2.58798636e-02, -1.41159305e-02,  2.80119050e-02,  1.82237923e-02,\n",
       "        -1.06924986e-02,  2.26008017e-02,  4.76795733e-02, -2.99600940e-02,\n",
       "        -2.59419880e-03,  1.35082714e-02, -3.75790484e-02,  3.89703512e-02,\n",
       "         4.98550385e-02,  3.05495076e-02,  3.65616120e-02,  1.35799823e-02,\n",
       "        -1.16211548e-02,  2.34000105e-02,  4.60748263e-02,  4.39366419e-03,\n",
       "         4.69561573e-03, -2.68550199e-02,  1.09602080e-03,  1.82316415e-02,\n",
       "         4.69993502e-02, -1.01257487e-04,  1.88416801e-02,  5.07786497e-02,\n",
       "         2.82219239e-02,  3.97934467e-02,  4.88209873e-02,  7.76146399e-03,\n",
       "        -1.12876752e-02,  1.75028257e-02,  2.57509034e-02,  3.22079100e-02,\n",
       "         4.39523607e-02, -1.08212736e-02,  3.11683002e-03, -1.01975873e-02,\n",
       "        -1.52261024e-02, -8.62596280e-05, -1.14115933e-02,  5.59363589e-02,\n",
       "         5.60154170e-02,  9.83687025e-03,  4.08962704e-02,  2.92839091e-02,\n",
       "         3.91427651e-02, -3.02798022e-02,  5.88691980e-02,  4.54034051e-03,\n",
       "         6.00480288e-03,  5.01044327e-03, -2.18154304e-02,  2.40651872e-02,\n",
       "         2.50737485e-03,  5.51947653e-02,  8.41306150e-03,  1.29838204e-02,\n",
       "         3.35995667e-02,  2.43808143e-03,  3.10150143e-02, -2.17273757e-02,\n",
       "         3.98627557e-02, -1.60097482e-03,  1.73629802e-02,  4.00749445e-02,\n",
       "         1.68483593e-02,  1.56285297e-02, -1.79142356e-02,  1.77074189e-03,\n",
       "         1.42033668e-02, -2.35973131e-02, -4.87017035e-02, -1.60442963e-02,\n",
       "         3.59908976e-02, -4.25304174e-02, -1.60456020e-02,  3.22096013e-02,\n",
       "         3.88919152e-02,  8.04046076e-03, -2.24019401e-03,  5.72159793e-03,\n",
       "         2.16320921e-02, -4.56170216e-02,  2.41075736e-03,  2.89647672e-02,\n",
       "         1.56524815e-02,  7.13183219e-03, -1.08597090e-03, -1.41005516e-02,\n",
       "         1.52229182e-02,  2.58762501e-02, -5.39251929e-03,  1.46523174e-02,\n",
       "        -1.82766020e-02,  3.26206796e-02,  1.29036130e-02,  2.65550986e-02,\n",
       "         2.39122678e-02,  2.75465921e-02,  2.48558857e-02,  2.71105301e-03,\n",
       "         1.83121748e-02,  1.18288985e-02,  2.67526675e-02, -2.79797278e-02,\n",
       "         3.47080752e-02, -5.41707414e-05,  2.93762423e-02, -5.33636333e-03,\n",
       "         1.00215171e-02, -4.24235947e-02, -2.43075397e-02, -8.14876147e-03,\n",
       "         3.33042443e-03, -4.26703785e-03,  4.29487862e-02,  3.05481791e-03,\n",
       "        -3.12700048e-02, -1.32192289e-02,  1.22674452e-02, -1.23928459e-02,\n",
       "        -6.96975365e-03,  9.35488846e-03, -1.19823124e-02, -1.80425812e-02,\n",
       "         1.98290125e-02,  4.88642342e-02, -1.52006391e-02, -2.09632167e-03,\n",
       "         2.29824358e-03, -7.37433415e-03,  2.90508568e-02,  5.05131930e-02,\n",
       "        -3.40839624e-02,  2.57155001e-02, -4.57618665e-03,  3.21763530e-02,\n",
       "         3.16472328e-03,  3.73304524e-02,  6.05131574e-02, -1.86454097e-03,\n",
       "         2.17822194e-02,  8.65325704e-03,  1.91562325e-02, -1.03313429e-02,\n",
       "         6.93515362e-03,  3.09022367e-02,  1.41139627e-02,  6.88705966e-02,\n",
       "        -1.77783091e-02,  2.94081885e-02, -3.15157585e-02,  7.57603673e-03,\n",
       "        -1.02981906e-02,  2.45782342e-02,  1.71696730e-02, -1.36278104e-02,\n",
       "         4.43131663e-02,  4.92239371e-02,  3.81480064e-03,  5.66279935e-03,\n",
       "         4.53454889e-02,  3.13462764e-02,  3.66164073e-02, -1.64137036e-02,\n",
       "         2.56673135e-02,  1.35847810e-03,  3.25388983e-02, -1.57186179e-04,\n",
       "         9.85673070e-03,  8.63048527e-03,  1.66448839e-02,  5.14559969e-02,\n",
       "         2.35171113e-02,  3.45192361e-03,  7.99186062e-03,  5.70322648e-02,\n",
       "        -1.49837416e-02,  8.20318330e-03,  1.34077240e-02,  8.20964761e-03,\n",
       "        -2.14038119e-02,  1.46110868e-02, -3.19412886e-03,  2.33347919e-02,\n",
       "         5.03484569e-02,  1.62137430e-02, -3.81273329e-02,  3.32270227e-02,\n",
       "        -9.84197669e-03,  3.46202701e-02,  5.76340444e-02,  5.86201949e-03,\n",
       "         4.57890294e-02, -2.72083972e-02, -2.11111419e-02, -3.46831046e-02,\n",
       "        -1.23680420e-02,  3.54901254e-02,  2.50518955e-02, -1.87470112e-02,\n",
       "         3.80026060e-03,  2.84314975e-02,  5.46105467e-02,  3.25227007e-02,\n",
       "        -5.41482540e-03,  3.21900994e-02, -2.19538901e-02, -6.76142797e-03,\n",
       "         1.54245123e-02, -1.89465806e-02,  9.66767315e-03, -1.13782473e-02,\n",
       "         2.67654229e-02, -4.13227314e-03, -8.33595730e-03, -1.22607443e-02,\n",
       "         1.26199592e-02,  3.13182212e-02,  9.19526257e-03, -1.33128855e-02,\n",
       "         6.89960197e-02,  2.82167923e-02,  2.25415174e-02, -1.44362794e-02,\n",
       "        -9.24551208e-03, -4.82128141e-03,  4.88948002e-02, -2.74050608e-02,\n",
       "        -9.37641505e-03,  2.71969680e-02,  5.67814559e-02,  1.95299101e-04,\n",
       "         6.30029663e-02,  4.07017022e-02,  4.34576385e-02,  1.35897156e-02,\n",
       "        -1.53586296e-02, -5.30784251e-03,  1.52615681e-02,  2.07768269e-02,\n",
       "        -1.35870874e-02, -2.39392910e-02,  5.00378050e-02,  3.33783887e-02,\n",
       "         2.24264897e-02,  2.20827628e-02,  9.18623898e-03,  1.10563757e-02,\n",
       "        -1.61572569e-03, -5.14034461e-03,  2.48959125e-03,  1.84476934e-02,\n",
       "        -5.89259621e-03,  2.35537831e-02,  2.02192720e-02, -1.40445167e-02,\n",
       "         7.83590898e-02, -7.37089198e-03,  3.78866284e-03,  2.20468361e-03,\n",
       "         4.21568402e-04,  2.06312276e-02, -1.54461367e-02, -3.43606398e-02,\n",
       "         7.49896932e-03, -1.65360491e-03, -1.97038855e-02,  4.46055783e-03,\n",
       "         9.83269233e-03,  6.82781041e-02, -1.00144353e-02, -6.27138233e-03,\n",
       "        -3.12741362e-02,  3.63009013e-02, -2.68424228e-02,  3.11959814e-02,\n",
       "        -1.10375462e-02,  8.09551850e-02, -2.26691253e-02,  3.59982848e-02,\n",
       "        -9.57996771e-03,  9.37931531e-04,  3.05511579e-02,  1.63453408e-02,\n",
       "         4.41069268e-02, -1.18012158e-02,  1.94202922e-02,  4.75876220e-02,\n",
       "         7.43449479e-02, -1.23965675e-02,  3.93483117e-02,  4.16197069e-02,\n",
       "        -1.96920820e-02,  2.94251572e-02, -2.25636959e-02,  4.11339104e-03,\n",
       "         4.04488817e-02,  3.24192829e-02,  2.27696151e-02,  2.35922765e-02,\n",
       "         5.47606982e-02,  3.82875577e-02,  5.57650216e-02,  1.25256730e-02,\n",
       "         4.37253974e-02,  5.93079207e-03, -2.12688558e-03, -2.87784450e-02,\n",
       "         1.74665116e-02,  1.27921132e-02, -6.81741768e-03, -5.73632680e-03,\n",
       "        -3.58009525e-02,  2.33576540e-02,  1.21228257e-02,  2.02839039e-02,\n",
       "         1.60508044e-02,  2.34011523e-02, -1.37659144e-02, -2.28276029e-02,\n",
       "        -6.09722640e-03, -1.49075128e-02,  2.53931526e-02,  3.96706983e-02,\n",
       "         5.92457969e-03,  1.52942557e-02,  1.54187819e-02,  4.09058966e-02,\n",
       "        -3.60427960e-03, -2.97435075e-02,  4.15166542e-02,  2.98763476e-02,\n",
       "        -1.70720629e-02, -4.14405353e-02, -1.81923565e-02,  1.10363364e-02,\n",
       "        -1.16115911e-02,  1.07884463e-02, -2.47317050e-02,  2.66432725e-02,\n",
       "         1.72627177e-02,  1.62256155e-02,  3.46323301e-04,  2.35519875e-02,\n",
       "         1.25487940e-02,  3.09296492e-02, -3.08158100e-02, -1.20455138e-02,\n",
       "        -4.31654975e-03,  5.39633073e-03,  4.56516743e-02,  9.63396858e-03,\n",
       "        -3.48067493e-03,  1.03597576e-02,  5.26991263e-02, -1.75907966e-02,\n",
       "        -3.39653790e-02,  4.29245867e-02, -2.37790048e-02, -3.86182079e-03,\n",
       "         1.24207959e-02,  5.49442833e-04, -2.83409413e-02,  3.15505639e-02,\n",
       "         1.84956789e-02, -2.36976799e-02,  1.60203446e-02,  6.58404687e-03,\n",
       "        -1.49204140e-03,  1.51895569e-03, -2.16035377e-02, -2.61506550e-02],\n",
       "       dtype=float32),\n",
       " array([-0.03749   ,  0.01873396, -0.00024588, -0.02078179,  0.01665152,\n",
       "         0.0286472 , -0.00438925,  0.00082097, -0.00591125, -0.00405602],\n",
       "       dtype=float32))"
      ]
     },
     "execution_count": 81,
     "metadata": {},
     "output_type": "execute_result"
    }
   ],
   "source": [
    "w1_normal, w2_normal"
   ]
  },
  {
   "cell_type": "code",
   "execution_count": null,
   "metadata": {},
   "outputs": [],
   "source": []
  },
  {
   "cell_type": "code",
   "execution_count": null,
   "metadata": {},
   "outputs": [],
   "source": []
  },
  {
   "cell_type": "code",
   "execution_count": null,
   "metadata": {},
   "outputs": [],
   "source": [
    "for i in range(self.epochs):\n",
    "            #copy.deepcopyにしないとself.trainが全て変わる\n",
    "    t_x = data_loader(copy.deepcopy(self.train_x), seed = i,batch_size = self.batch_size )\n",
    "    t_y = data_loader(copy.deepcopy(self.train_y), batch_size = self.batch_size , seed = i)\n",
    "\n",
    "    \n",
    "    for batch_x,batch_y in zip(t_x, t_y):\n",
    "        y = model.forward(batch_x)\n",
    "        model.backward(y =  y , t = batch_y)\n",
    "\n",
    "    y = model.forward(self.train_x)\n",
    "    model.loss_cal(y,self.train_y, binary= self.binary )\n",
    "    y = model.forward(self.val_x)\n",
    "    model.loss_cal(y,self.val_y, is_train = False,binary= self.binary )\n"
   ]
  }
 ],
 "metadata": {
  "kernelspec": {
   "display_name": "Python 3",
   "language": "python",
   "name": "python3"
  },
  "language_info": {
   "codemirror_mode": {
    "name": "ipython",
    "version": 3
   },
   "file_extension": ".py",
   "mimetype": "text/x-python",
   "name": "python",
   "nbconvert_exporter": "python",
   "pygments_lexer": "ipython3",
   "version": "3.7.12"
  }
 },
 "nbformat": 4,
 "nbformat_minor": 4
}
